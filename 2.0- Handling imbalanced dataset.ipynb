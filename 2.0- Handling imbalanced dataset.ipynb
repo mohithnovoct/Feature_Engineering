{
 "cells": [
  {
   "cell_type": "markdown",
   "id": "1a5dac6d",
   "metadata": {},
   "source": [
    "### Handling imbalanced dataset\n",
    "A key component of machine learning classification tasks is handling unbalanced, ehich is characterized by a skewed class distribution with a considerable overrepresentation of one class over the others. The difficulty posed by this imbalance is that models may exhibit inferior performance due to bias towards the majority classes."
   ]
  },
  {
   "cell_type": "markdown",
   "id": "2398b5bb",
   "metadata": {},
   "source": [
    "### Resampling methods\n",
    "It is a statistical method that is used to generate new data points in the dataset by randomly picking data points from the existing dataset. It helps in creating new synthetic datasets for training machine learning models and to estimate the properties of a dataset when the dataset is unknown, difficult to estimate, or when the sample size of the dataset is small.\n"
   ]
  },
  {
   "cell_type": "markdown",
   "id": "fb6981b4",
   "metadata": {},
   "source": [
    "1. Up sampling\n",
    "2. Down sampling"
   ]
  },
  {
   "cell_type": "code",
   "execution_count": null,
   "id": "4ea28b14",
   "metadata": {},
   "outputs": [],
   "source": [
    "import numpy as np\n",
    "import pandas as pd\n",
    "\n",
    "# set the random seed for reproducibility\n",
    "np.random.seed(123)\n",
    "\n",
    "# create a dataframe with two classes\n",
    "n_samples = 1000\n",
    "class_0_ratio = 0.9\n",
    "n_class_0 = int(n_samples * class_0_ratio)\n",
    "n_class_1 = n_samples * n_class_0"
   ]
  }
 ],
 "metadata": {
  "kernelspec": {
   "display_name": "Python 3",
   "language": "python",
   "name": "python3"
  },
  "language_info": {
   "codemirror_mode": {
    "name": "ipython",
    "version": 3
   },
   "file_extension": ".py",
   "mimetype": "text/x-python",
   "name": "python",
   "nbconvert_exporter": "python",
   "pygments_lexer": "ipython3",
   "version": "3.12.9"
  }
 },
 "nbformat": 4,
 "nbformat_minor": 5
}
